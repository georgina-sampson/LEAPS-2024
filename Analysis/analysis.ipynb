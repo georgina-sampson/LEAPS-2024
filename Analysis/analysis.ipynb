{
 "cells": [
  {
   "cell_type": "code",
   "execution_count": 13,
   "metadata": {},
   "outputs": [],
   "source": [
    "import constants, Plotting\n",
    "import pandas as pd\n",
    "import numpy as np\n",
    "import matplotlib.pyplot as plt\n",
    "import seaborn as sns"
   ]
  },
  {
   "cell_type": "code",
   "execution_count": 14,
   "metadata": {},
   "outputs": [],
   "source": [
    "myCmap=sns.diverging_palette(170, 330, l=65, center=\"dark\", as_cmap=True)\n",
    "physical = {constants.SHOCK: ['Time', 'Density', 'gasTemp', 'av', 'zeta', 'radfield', constants.SHOCKVEL],\n",
    "            constants.HOTCORE: ['Time', 'Density', 'gasTemp', 'av', 'zeta', 'radfield']}\n",
    "species=['#CH3OH', 'CH3OH', '#SIO', 'SIO']"
   ]
  },
  {
   "cell_type": "code",
   "execution_count": 15,
   "metadata": {},
   "outputs": [],
   "source": [
    "def buildDataframe(tipo): \n",
    "    df= pd.read_csv(tipo+'.csv', index_col=0)\n",
    "\n",
    "    df = df.loc[:,physical[tipo]+species+['runName']]\n",
    "    for prop in physical[tipo]+species:\n",
    "        with np.errstate(divide='ignore'): df[f'{prop}_log']=np.log10(df[prop])\n",
    "    \n",
    "    return df"
   ]
  },
  {
   "cell_type": "code",
   "execution_count": 16,
   "metadata": {},
   "outputs": [],
   "source": [
    "def getCorrMatrix(df, tipo, singleAxis):\n",
    "    xaxis=[f'{prop}_log' for prop in species]\n",
    "    yaxis= xaxis if singleAxis else [f'{prop}_log' for prop in physical[tipo]]\n",
    "\n",
    "    cor = df.loc[:,xaxis if singleAxis else xaxis+yaxis].corr()\n",
    "    cor=cor[cor.abs().ge(0.5)].loc[xaxis,yaxis].dropna(how='all').dropna(how='all', axis=1)\n",
    "    return cor"
   ]
  },
  {
   "cell_type": "code",
   "execution_count": 17,
   "metadata": {},
   "outputs": [],
   "source": [
    "def isValid(x, y):\n",
    "    phases=['#','@','$']\n",
    "    if x==y: return False\n",
    "    elif x.strip('#@$')==y.strip('#@$'): return True\n",
    "    for sym in phases:\n",
    "        if sym in x and sym in y: return True\n",
    "    return False\n",
    "\n",
    "def getCorrValues(df, tipo, corrList, singleAxis):\n",
    "    cor=getCorrMatrix(df, tipo, singleAxis)\n",
    "\n",
    "    for i in cor.index:\n",
    "        for j in cor.columns:\n",
    "            if not np.isnan(cor.loc[i,j]):\n",
    "                x=j.replace('_log','')\n",
    "                y=i.replace('_log','')\n",
    "                if singleAxis:\n",
    "                    if isValid(x,y): corrList.append(pd.DataFrame(data={'tipo': tipo, 'x': x, 'y': y, 'coef': cor.loc[i,j]}, index=[0]))\n",
    "                else: corrList.append(pd.DataFrame(data={'tipo': tipo, 'x': x, 'y': y, 'coef': cor.loc[i,j]}, index=[0]))"
   ]
  },
  {
   "cell_type": "code",
   "execution_count": 18,
   "metadata": {},
   "outputs": [],
   "source": [
    "corrList=[]\n",
    "for tipo in physical:\n",
    "    df=buildDataframe(tipo)\n",
    "    for singleAxis in [False, True]:\n",
    "        getCorrValues(df, tipo, corrList, singleAxis)\n",
    "\n",
    "corrs=pd.concat(corrList, ignore_index=True)"
   ]
  },
  {
   "cell_type": "code",
   "execution_count": 19,
   "metadata": {},
   "outputs": [
    {
     "data": {
      "text/html": [
       "<div>\n",
       "<style scoped>\n",
       "    .dataframe tbody tr th:only-of-type {\n",
       "        vertical-align: middle;\n",
       "    }\n",
       "\n",
       "    .dataframe tbody tr th {\n",
       "        vertical-align: top;\n",
       "    }\n",
       "\n",
       "    .dataframe thead th {\n",
       "        text-align: right;\n",
       "    }\n",
       "</style>\n",
       "<table border=\"1\" class=\"dataframe\">\n",
       "  <thead>\n",
       "    <tr style=\"text-align: right;\">\n",
       "      <th></th>\n",
       "      <th>tipo</th>\n",
       "      <th>x</th>\n",
       "      <th>y</th>\n",
       "      <th>coef</th>\n",
       "    </tr>\n",
       "  </thead>\n",
       "  <tbody>\n",
       "    <tr>\n",
       "      <th>0</th>\n",
       "      <td>c shock</td>\n",
       "      <td>gasTemp</td>\n",
       "      <td>#CH3OH</td>\n",
       "      <td>-0.528318</td>\n",
       "    </tr>\n",
       "    <tr>\n",
       "      <th>1</th>\n",
       "      <td>c shock</td>\n",
       "      <td>SIO</td>\n",
       "      <td>#SIO</td>\n",
       "      <td>0.500797</td>\n",
       "    </tr>\n",
       "    <tr>\n",
       "      <th>2</th>\n",
       "      <td>c shock</td>\n",
       "      <td>#SIO</td>\n",
       "      <td>SIO</td>\n",
       "      <td>0.500797</td>\n",
       "    </tr>\n",
       "    <tr>\n",
       "      <th>3</th>\n",
       "      <td>hot core</td>\n",
       "      <td>Time</td>\n",
       "      <td>#CH3OH</td>\n",
       "      <td>-0.560787</td>\n",
       "    </tr>\n",
       "    <tr>\n",
       "      <th>4</th>\n",
       "      <td>hot core</td>\n",
       "      <td>Time</td>\n",
       "      <td>CH3OH</td>\n",
       "      <td>0.531724</td>\n",
       "    </tr>\n",
       "    <tr>\n",
       "      <th>5</th>\n",
       "      <td>hot core</td>\n",
       "      <td>radfield</td>\n",
       "      <td>#SIO</td>\n",
       "      <td>-0.554428</td>\n",
       "    </tr>\n",
       "    <tr>\n",
       "      <th>6</th>\n",
       "      <td>hot core</td>\n",
       "      <td>Time</td>\n",
       "      <td>SIO</td>\n",
       "      <td>0.733332</td>\n",
       "    </tr>\n",
       "    <tr>\n",
       "      <th>7</th>\n",
       "      <td>hot core</td>\n",
       "      <td>gasTemp</td>\n",
       "      <td>SIO</td>\n",
       "      <td>0.675674</td>\n",
       "    </tr>\n",
       "  </tbody>\n",
       "</table>\n",
       "</div>"
      ],
      "text/plain": [
       "       tipo         x       y      coef\n",
       "0   c shock   gasTemp  #CH3OH -0.528318\n",
       "1   c shock       SIO    #SIO  0.500797\n",
       "2   c shock      #SIO     SIO  0.500797\n",
       "3  hot core      Time  #CH3OH -0.560787\n",
       "4  hot core      Time   CH3OH  0.531724\n",
       "5  hot core  radfield    #SIO -0.554428\n",
       "6  hot core      Time     SIO  0.733332\n",
       "7  hot core   gasTemp     SIO  0.675674"
      ]
     },
     "execution_count": 19,
     "metadata": {},
     "output_type": "execute_result"
    }
   ],
   "source": [
    "corrs"
   ]
  }
 ],
 "metadata": {
  "kernelspec": {
   "display_name": "Python 3",
   "language": "python",
   "name": "python3"
  },
  "language_info": {
   "codemirror_mode": {
    "name": "ipython",
    "version": 3
   },
   "file_extension": ".py",
   "mimetype": "text/x-python",
   "name": "python",
   "nbconvert_exporter": "python",
   "pygments_lexer": "ipython3",
   "version": "3.9.19"
  }
 },
 "nbformat": 4,
 "nbformat_minor": 2
}

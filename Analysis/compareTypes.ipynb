{
 "cells": [
  {
   "cell_type": "code",
   "execution_count": 1,
   "metadata": {},
   "outputs": [],
   "source": [
    "import numpy as np\n",
    "import matplotlib.pyplot as plt\n",
    "import seaborn as sns\n",
    "import pandas as pd\n",
    "import constants, os"
   ]
  },
  {
   "cell_type": "code",
   "execution_count": 8,
   "metadata": {},
   "outputs": [],
   "source": [
    "folder = '/data2/gsampsonolalde/LEAPS-2024/Analysis/{}'\n",
    "nameBase= folder.format('TimePlots/')\n",
    "\n",
    "physical = {constants.SHOCK: ['Density', 'gasTemp', 'av', 'zeta', 'radfield', constants.SHOCKVEL],\n",
    "            constants.HOTCORE: ['Density', 'gasTemp', 'av', 'zeta', 'radfield']}\n",
    "species=['#CH3OH', 'CH3OH', '#SIO', 'SIO']"
   ]
  },
  {
   "cell_type": "code",
   "execution_count": 9,
   "metadata": {},
   "outputs": [],
   "source": [
    "def buildDataframe(tipo): \n",
    "    df= pd.read_csv(folder.format(tipo)+'.csv', index_col=0)\n",
    "\n",
    "    df = df.loc[:,['Time']+physical[tipo]+species+['runName']]\n",
    "    for prop in physical[tipo]+species:\n",
    "        with np.errstate(divide='ignore'): df[f'{prop}_log']=np.log10(df[prop])\n",
    "    \n",
    "    df=df.reset_index().drop(columns=['index'])\n",
    "    df=df.join(pd.DataFrame(df['runName'].str.replace('.dat','').str.split('_').values.tolist(),\n",
    "                            columns=constants.initparams[tipo]), rsuffix='_str')\n",
    "    return df"
   ]
  },
  {
   "cell_type": "code",
   "execution_count": null,
   "metadata": {},
   "outputs": [],
   "source": [
    "tipo=constants.HOTCORE\n",
    "df= buildDataframe(tipo)\n",
    "df['normalizedTime']= df['Time']/df.groupby('runName')['Time'].transform('max')"
   ]
  },
  {
   "cell_type": "code",
   "execution_count": 10,
   "metadata": {},
   "outputs": [],
   "source": [
    "tipo=constants.SHOCK\n",
    "df= buildDataframe(tipo)\n",
    "df['normalizedTime']= df['Time']/df.groupby('runName')['Time'].transform('max')"
   ]
  }
 ],
 "metadata": {
  "kernelspec": {
   "display_name": "Python 3",
   "language": "python",
   "name": "python3"
  },
  "language_info": {
   "codemirror_mode": {
    "name": "ipython",
    "version": 3
   },
   "file_extension": ".py",
   "mimetype": "text/x-python",
   "name": "python",
   "nbconvert_exporter": "python",
   "pygments_lexer": "ipython3",
   "version": "3.9.19"
  }
 },
 "nbformat": 4,
 "nbformat_minor": 2
}
